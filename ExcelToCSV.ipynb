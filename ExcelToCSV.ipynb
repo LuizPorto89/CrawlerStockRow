{
 "cells": [
  {
   "cell_type": "code",
   "execution_count": null,
   "metadata": {},
   "outputs": [],
   "source": [
    "import pandas as pd\n",
    "import glob\n",
    "from pathlib import Path\n",
    "import re\n",
    "import os"
   ]
  },
  {
   "cell_type": "code",
   "execution_count": null,
   "metadata": {},
   "outputs": [],
   "source": [
    "%%time\n",
    "dict_df_BQ = {}\n",
    "dict_df_GQ = {}\n",
    "dict_df_CQ = {}\n",
    "dict_df_CT = {}\n",
    "dict_df_IQ = {}\n",
    "dict_df_IT = {}\n",
    "dict_df_MQ = {}\n",
    "dict_df_MT = {}\n",
    "\n",
    "for file in glob.iglob('**/*.xlsx', recursive=True):\n",
    "    #Coleta ticker a partir do nome do arquivo\n",
    "    name = Path(file).stem\n",
    "    name_splited = re.split(\"_\", name) \n",
    "    ticker = name_splited[0]\n",
    "    try:\n",
    "        #Excel para pandas, armazena cada tipo em um dicionário correspondente ao tipo\n",
    "        x_file = pd.read_excel(file,sheet_name=0, index_col=[0]).transpose()\n",
    "        if name_splited[1] == 'BalanceSheet' and name_splited[2] == 'Quartely':\n",
    "            dict_df_BQ[ticker] = x_file\n",
    "        elif name_splited[1] == 'Growth' and name_splited[2] == 'Quartely':\n",
    "            dict_df_GQ[ticker] = x_file      \n",
    "        elif name_splited[1] == 'CashFlow' and name_splited[2] == 'Quartely':\n",
    "            dict_df_CQ[ticker] = x_file\n",
    "        elif name_splited[1] == 'CashFlow' and name_splited[2] == 'Trailing':\n",
    "            dict_df_CT[ticker] = x_file\n",
    "        elif name_splited[1] == 'Income' and name_splited[2] == 'Quartely':\n",
    "            dict_df_IQ[ticker] = x_file\n",
    "        elif name_splited[1] == 'Income' and name_splited[2] == 'Trailing':\n",
    "            dict_df_IT[ticker] = x_file\n",
    "        elif name_splited[1] == 'Metrics' and name_splited[2] == 'Quartely':\n",
    "            dict_df_MQ[ticker] = x_file\n",
    "        elif name_splited[1] == 'Metrics' and name_splited[2] == 'Trailing':\n",
    "            dict_df_MT[ticker] = x_file\n",
    "    except:\n",
    "        print(file)\n",
    "        \n",
    "dict_df_all = {\"Balance_Quartely\": dict_df_BQ,\n",
    "              \"Growth_Quartely\": dict_df_GQ,\n",
    "              \"CashFlow_Quartely\": dict_df_CQ,\n",
    "              \"CashFlow_Trailing\": dict_df_CT,\n",
    "              \"Income_Quartely\": dict_df_IQ,\n",
    "              \"Income_Trailing\": dict_df_IT,\n",
    "              \"Metrics_Quartely\": dict_df_MQ,\n",
    "              \"Metrics_Trailing\": dict_df_MT}"
   ]
  },
  {
   "cell_type": "code",
   "execution_count": null,
   "metadata": {},
   "outputs": [],
   "source": [
    "for k,v in dict_df_all.items():\n",
    "    print(k + ': ' + str(len(v)))"
   ]
  },
  {
   "cell_type": "code",
   "execution_count": null,
   "metadata": {
    "scrolled": true
   },
   "outputs": [],
   "source": [
    "%%time\n",
    "dfs = {}\n",
    "for k,v in dict_df_all.items():\n",
    "    dfs[k] = pd.DataFrame()\n",
    "    \n",
    "    for key,value in v.items():\n",
    "        df = value\n",
    "        df.insert(0,'Ticker',key)\n",
    "        #df.reset_index(inplace=True)\n",
    "        dfs[k] = dfs[k].append(df)"
   ]
  },
  {
   "cell_type": "code",
   "execution_count": null,
   "metadata": {},
   "outputs": [],
   "source": [
    "for k,v in dfs.items():\n",
    "    print(k + \": \" + str(len(set(v['Ticker']))))"
   ]
  },
  {
   "cell_type": "code",
   "execution_count": null,
   "metadata": {},
   "outputs": [],
   "source": [
    "#Local onde serão baixados os arquivos\n",
    "path= './Dados_csv'\n",
    "#Cria pasta caso não exista\n",
    "if os.path.isdir(path) == False:\n",
    "    os.mkdir(path)\n",
    "for k,v in dfs.items():\n",
    "    name = path + '/' + k + '.csv'\n",
    "    v.to_csv(name)"
   ]
  }
 ],
 "metadata": {
  "kernelspec": {
   "display_name": "Python 3",
   "language": "python",
   "name": "python3"
  },
  "language_info": {
   "codemirror_mode": {
    "name": "ipython",
    "version": 3
   },
   "file_extension": ".py",
   "mimetype": "text/x-python",
   "name": "python",
   "nbconvert_exporter": "python",
   "pygments_lexer": "ipython3",
   "version": "3.7.6"
  }
 },
 "nbformat": 4,
 "nbformat_minor": 4
}
